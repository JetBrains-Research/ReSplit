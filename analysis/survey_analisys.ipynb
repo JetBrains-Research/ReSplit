{
 "cells": [
  {
   "cell_type": "code",
   "execution_count": 1,
   "metadata": {
    "collapsed": true
   },
   "outputs": [],
   "source": [
    "import pandas as pd\n",
    "import pingouin as pg\n",
    "import seaborn as sns\n",
    "import matplotlib.pyplot as plt"
   ]
  },
  {
   "cell_type": "code",
   "execution_count": 2,
   "outputs": [],
   "source": [
    "df = pd.read_csv('../data/survey.csv')\n",
    "\n",
    "with open(\"../data/mapping.txt\", \"r\") as mapping_txt:\n",
    "    mapping = mapping_txt.read()\n",
    "mapping = eval(mapping)\n",
    "\n",
    "\n",
    "def replace_mapping(df):\n",
    "    blank = ['orig', 'split']\n",
    "    task = df.task.astype(int).iloc[0]\n",
    "    task_mapping = ['Notebook_' + i.lower() for i in mapping[task]]\n",
    "    task_mapping = {m: blank[i] for i, m in enumerate(task_mapping)}\n",
    "    df.value = df.value.replace(task_mapping)\n",
    "    return df"
   ],
   "metadata": {
    "collapsed": false,
    "pycharm": {
     "name": "#%%\n"
    }
   }
  },
  {
   "cell_type": "code",
   "execution_count": 3,
   "outputs": [],
   "source": [
    "df = df[df['ELECTRONIC CONSENT'] == 'Yes']\n",
    "df = df.loc[:, ~df.columns.isin(['ELECTRONIC CONSENT'])]"
   ],
   "metadata": {
    "collapsed": false,
    "pycharm": {
     "name": "#%%\n"
    }
   }
  },
  {
   "cell_type": "code",
   "execution_count": 4,
   "outputs": [
    {
     "data": {
      "text/plain": "[['A', 'B'], ['A', 'B'], ['A', 'B'], ['B', 'A'], ['B', 'A']]"
     },
     "execution_count": 4,
     "metadata": {},
     "output_type": "execute_result"
    }
   ],
   "source": [
    "mapping"
   ],
   "metadata": {
    "collapsed": false,
    "pycharm": {
     "name": "#%%\n"
    }
   }
  },
  {
   "cell_type": "markdown",
   "source": [
    "### Experience description"
   ],
   "metadata": {
    "collapsed": false
   }
  },
  {
   "cell_type": "code",
   "execution_count": 5,
   "outputs": [
    {
     "data": {
      "text/plain": "       experience\ncount   23.000000\nmean     4.760870\nstd      2.835928\nmin      1.000000\n25%      2.500000\n50%      4.000000\n75%      7.500000\nmax     10.000000",
      "text/html": "<div>\n<style scoped>\n    .dataframe tbody tr th:only-of-type {\n        vertical-align: middle;\n    }\n\n    .dataframe tbody tr th {\n        vertical-align: top;\n    }\n\n    .dataframe thead th {\n        text-align: right;\n    }\n</style>\n<table border=\"1\" class=\"dataframe\">\n  <thead>\n    <tr style=\"text-align: right;\">\n      <th></th>\n      <th>experience</th>\n    </tr>\n  </thead>\n  <tbody>\n    <tr>\n      <th>count</th>\n      <td>23.000000</td>\n    </tr>\n    <tr>\n      <th>mean</th>\n      <td>4.760870</td>\n    </tr>\n    <tr>\n      <th>std</th>\n      <td>2.835928</td>\n    </tr>\n    <tr>\n      <th>min</th>\n      <td>1.000000</td>\n    </tr>\n    <tr>\n      <th>25%</th>\n      <td>2.500000</td>\n    </tr>\n    <tr>\n      <th>50%</th>\n      <td>4.000000</td>\n    </tr>\n    <tr>\n      <th>75%</th>\n      <td>7.500000</td>\n    </tr>\n    <tr>\n      <th>max</th>\n      <td>10.000000</td>\n    </tr>\n  </tbody>\n</table>\n</div>"
     },
     "execution_count": 5,
     "metadata": {},
     "output_type": "execute_result"
    }
   ],
   "source": [
    "exp = df.set_index(\"Timestamp\").iloc[:, :2]\n",
    "exp.columns = ['freq', 'experience']\n",
    "exp = exp.reset_index()\n",
    "exp.describe()"
   ],
   "metadata": {
    "collapsed": false,
    "pycharm": {
     "name": "#%%\n"
    }
   }
  },
  {
   "cell_type": "code",
   "execution_count": 6,
   "outputs": [
    {
     "data": {
      "text/plain": "Less than once a week    0.434783\n2-3 times a week         0.391304\nEvery day                0.173913\nName: freq, dtype: float64"
     },
     "execution_count": 6,
     "metadata": {},
     "output_type": "execute_result"
    }
   ],
   "source": [
    "exp.freq.value_counts() / len(exp)"
   ],
   "metadata": {
    "collapsed": false,
    "pycharm": {
     "name": "#%%\n"
    }
   }
  },
  {
   "cell_type": "markdown",
   "source": [
    "### Evaluation description"
   ],
   "metadata": {
    "collapsed": false
   }
  },
  {
   "cell_type": "code",
   "execution_count": 7,
   "outputs": [],
   "source": [
    "tasks_raw = df.set_index(\"Timestamp\").iloc[:, 2:]\n",
    "\n",
    "new_columns = []\n",
    "for i in range(5):\n",
    "    new_columns.extend([f'{i}_Understanding', f'{i}_Preference', f'{i}_Other'])\n",
    "tasks_raw.columns = new_columns\n",
    "tasks = tasks_raw.reset_index().melt(id_vars=['Timestamp'])"
   ],
   "metadata": {
    "collapsed": false,
    "pycharm": {
     "name": "#%%\n"
    }
   }
  },
  {
   "cell_type": "code",
   "execution_count": 8,
   "outputs": [],
   "source": [
    "tasks['task'] = tasks.variable.str.split('_').apply(lambda x: x[0])\n",
    "tasks['question'] = tasks.variable.str.split('_').apply(lambda x: x[1])"
   ],
   "metadata": {
    "collapsed": false,
    "pycharm": {
     "name": "#%%\n"
    }
   }
  },
  {
   "cell_type": "code",
   "execution_count": 9,
   "outputs": [],
   "source": [
    "understanding = tasks[tasks['question'] == 'Understanding']\n",
    "understanding = understanding[['Timestamp','task','value']]\n",
    "understanding.columns = ['Timestamp','task','understand']"
   ],
   "metadata": {
    "collapsed": false,
    "pycharm": {
     "name": "#%%\n"
    }
   }
  },
  {
   "cell_type": "code",
   "execution_count": 10,
   "outputs": [],
   "source": [
    "preference = tasks[tasks['question'] == 'Preference']\n",
    "preference = preference.groupby('task').apply(lambda x: replace_mapping(x))\n",
    "preference['value'] = preference.value.replace({'The script': 'script'})"
   ],
   "metadata": {
    "collapsed": false,
    "pycharm": {
     "name": "#%%\n"
    }
   }
  },
  {
   "cell_type": "code",
   "execution_count": 11,
   "outputs": [],
   "source": [
    "preference = preference.merge(exp, on = 'Timestamp')\n",
    "preference = preference.merge(understanding, on = ['Timestamp','task'])\n",
    "preference.understand = preference.understand.astype(int)\n",
    "preference['value_coded'] = preference['value'].replace({'orig': 0, 'split': 1, 'script': 2})"
   ],
   "metadata": {
    "collapsed": false,
    "pycharm": {
     "name": "#%%\n"
    }
   }
  },
  {
   "cell_type": "code",
   "execution_count": 12,
   "outputs": [],
   "source": [
    "preference = preference[preference['understand'] > 2]"
   ],
   "metadata": {
    "collapsed": false,
    "pycharm": {
     "name": "#%%\n"
    }
   }
  },
  {
   "cell_type": "code",
   "execution_count": 13,
   "outputs": [
    {
     "data": {
      "text/plain": "orig      70\nsplit     33\nscript     9\nName: value, dtype: int64"
     },
     "execution_count": 13,
     "metadata": {},
     "output_type": "execute_result"
    }
   ],
   "source": [
    "preference.value.value_counts()"
   ],
   "metadata": {
    "collapsed": false,
    "pycharm": {
     "name": "#%%\n"
    }
   }
  },
  {
   "cell_type": "code",
   "execution_count": 14,
   "outputs": [
    {
     "data": {
      "text/plain": "               Timestamp      variable   value task    question  \\\n0    10/13/2021 15:11:42  0_Preference    orig    0  Preference   \n1    10/13/2021 15:11:42  1_Preference   split    1  Preference   \n2    10/13/2021 15:11:42  2_Preference  script    2  Preference   \n3    10/13/2021 15:11:42  3_Preference   split    3  Preference   \n4    10/13/2021 15:11:42  4_Preference    orig    4  Preference   \n..                   ...           ...     ...  ...         ...   \n110   11/1/2021 11:03:52  0_Preference    orig    0  Preference   \n111   11/1/2021 11:03:52  1_Preference    orig    1  Preference   \n112   11/1/2021 11:03:52  2_Preference    orig    2  Preference   \n113   11/1/2021 11:03:52  3_Preference   split    3  Preference   \n114   11/1/2021 11:03:52  4_Preference   split    4  Preference   \n\n                 freq  experience  understand  value_coded  \n0           Every day         3.0           4            0  \n1           Every day         3.0           3            1  \n2           Every day         3.0           5            2  \n3           Every day         3.0           5            1  \n4           Every day         3.0           5            0  \n..                ...         ...         ...          ...  \n110  2-3 times a week         2.0           4            0  \n111  2-3 times a week         2.0           4            0  \n112  2-3 times a week         2.0           5            0  \n113  2-3 times a week         2.0           4            1  \n114  2-3 times a week         2.0           4            1  \n\n[112 rows x 9 columns]",
      "text/html": "<div>\n<style scoped>\n    .dataframe tbody tr th:only-of-type {\n        vertical-align: middle;\n    }\n\n    .dataframe tbody tr th {\n        vertical-align: top;\n    }\n\n    .dataframe thead th {\n        text-align: right;\n    }\n</style>\n<table border=\"1\" class=\"dataframe\">\n  <thead>\n    <tr style=\"text-align: right;\">\n      <th></th>\n      <th>Timestamp</th>\n      <th>variable</th>\n      <th>value</th>\n      <th>task</th>\n      <th>question</th>\n      <th>freq</th>\n      <th>experience</th>\n      <th>understand</th>\n      <th>value_coded</th>\n    </tr>\n  </thead>\n  <tbody>\n    <tr>\n      <th>0</th>\n      <td>10/13/2021 15:11:42</td>\n      <td>0_Preference</td>\n      <td>orig</td>\n      <td>0</td>\n      <td>Preference</td>\n      <td>Every day</td>\n      <td>3.0</td>\n      <td>4</td>\n      <td>0</td>\n    </tr>\n    <tr>\n      <th>1</th>\n      <td>10/13/2021 15:11:42</td>\n      <td>1_Preference</td>\n      <td>split</td>\n      <td>1</td>\n      <td>Preference</td>\n      <td>Every day</td>\n      <td>3.0</td>\n      <td>3</td>\n      <td>1</td>\n    </tr>\n    <tr>\n      <th>2</th>\n      <td>10/13/2021 15:11:42</td>\n      <td>2_Preference</td>\n      <td>script</td>\n      <td>2</td>\n      <td>Preference</td>\n      <td>Every day</td>\n      <td>3.0</td>\n      <td>5</td>\n      <td>2</td>\n    </tr>\n    <tr>\n      <th>3</th>\n      <td>10/13/2021 15:11:42</td>\n      <td>3_Preference</td>\n      <td>split</td>\n      <td>3</td>\n      <td>Preference</td>\n      <td>Every day</td>\n      <td>3.0</td>\n      <td>5</td>\n      <td>1</td>\n    </tr>\n    <tr>\n      <th>4</th>\n      <td>10/13/2021 15:11:42</td>\n      <td>4_Preference</td>\n      <td>orig</td>\n      <td>4</td>\n      <td>Preference</td>\n      <td>Every day</td>\n      <td>3.0</td>\n      <td>5</td>\n      <td>0</td>\n    </tr>\n    <tr>\n      <th>...</th>\n      <td>...</td>\n      <td>...</td>\n      <td>...</td>\n      <td>...</td>\n      <td>...</td>\n      <td>...</td>\n      <td>...</td>\n      <td>...</td>\n      <td>...</td>\n    </tr>\n    <tr>\n      <th>110</th>\n      <td>11/1/2021 11:03:52</td>\n      <td>0_Preference</td>\n      <td>orig</td>\n      <td>0</td>\n      <td>Preference</td>\n      <td>2-3 times a week</td>\n      <td>2.0</td>\n      <td>4</td>\n      <td>0</td>\n    </tr>\n    <tr>\n      <th>111</th>\n      <td>11/1/2021 11:03:52</td>\n      <td>1_Preference</td>\n      <td>orig</td>\n      <td>1</td>\n      <td>Preference</td>\n      <td>2-3 times a week</td>\n      <td>2.0</td>\n      <td>4</td>\n      <td>0</td>\n    </tr>\n    <tr>\n      <th>112</th>\n      <td>11/1/2021 11:03:52</td>\n      <td>2_Preference</td>\n      <td>orig</td>\n      <td>2</td>\n      <td>Preference</td>\n      <td>2-3 times a week</td>\n      <td>2.0</td>\n      <td>5</td>\n      <td>0</td>\n    </tr>\n    <tr>\n      <th>113</th>\n      <td>11/1/2021 11:03:52</td>\n      <td>3_Preference</td>\n      <td>split</td>\n      <td>3</td>\n      <td>Preference</td>\n      <td>2-3 times a week</td>\n      <td>2.0</td>\n      <td>4</td>\n      <td>1</td>\n    </tr>\n    <tr>\n      <th>114</th>\n      <td>11/1/2021 11:03:52</td>\n      <td>4_Preference</td>\n      <td>split</td>\n      <td>4</td>\n      <td>Preference</td>\n      <td>2-3 times a week</td>\n      <td>2.0</td>\n      <td>4</td>\n      <td>1</td>\n    </tr>\n  </tbody>\n</table>\n<p>112 rows × 9 columns</p>\n</div>"
     },
     "execution_count": 14,
     "metadata": {},
     "output_type": "execute_result"
    }
   ],
   "source": [
    "preference"
   ],
   "metadata": {
    "collapsed": false,
    "pycharm": {
     "name": "#%%\n"
    }
   }
  },
  {
   "cell_type": "code",
   "execution_count": 14,
   "outputs": [],
   "source": [],
   "metadata": {
    "collapsed": false,
    "pycharm": {
     "name": "#%%\n"
    }
   }
  },
  {
   "cell_type": "code",
   "execution_count": 15,
   "outputs": [
    {
     "data": {
      "text/plain": "<Figure size 432x288 with 1 Axes>",
      "image/png": "[encoded data removed]"
     },
     "metadata": {},
     "output_type": "display_data"
    }
   ],
   "source": [
    "pie = (preference.value.value_counts() / len(preference)).reset_index()\n",
    "data = pie.value.tolist()\n",
    "labels = pie['index'].tolist()\n",
    "\n",
    "colors = sns.color_palette('pastel')[0:5]\n",
    "plt.pie(data, labels=labels, colors=colors, autopct='%.0f%%');"
   ],
   "metadata": {
    "collapsed": false,
    "pycharm": {
     "name": "#%%\n"
    }
   }
  },
  {
   "cell_type": "code",
   "execution_count": 16,
   "outputs": [
    {
     "data": {
      "text/plain": "    index     value\n0    orig  0.625000\n1   split  0.294643\n2  script  0.080357",
      "text/html": "<div>\n<style scoped>\n    .dataframe tbody tr th:only-of-type {\n        vertical-align: middle;\n    }\n\n    .dataframe tbody tr th {\n        vertical-align: top;\n    }\n\n    .dataframe thead th {\n        text-align: right;\n    }\n</style>\n<table border=\"1\" class=\"dataframe\">\n  <thead>\n    <tr style=\"text-align: right;\">\n      <th></th>\n      <th>index</th>\n      <th>value</th>\n    </tr>\n  </thead>\n  <tbody>\n    <tr>\n      <th>0</th>\n      <td>orig</td>\n      <td>0.625000</td>\n    </tr>\n    <tr>\n      <th>1</th>\n      <td>split</td>\n      <td>0.294643</td>\n    </tr>\n    <tr>\n      <th>2</th>\n      <td>script</td>\n      <td>0.080357</td>\n    </tr>\n  </tbody>\n</table>\n</div>"
     },
     "execution_count": 16,
     "metadata": {},
     "output_type": "execute_result"
    }
   ],
   "source": [
    "pie"
   ],
   "metadata": {
    "collapsed": false,
    "pycharm": {
     "name": "#%%\n"
    }
   }
  },
  {
   "cell_type": "code",
   "execution_count": 17,
   "outputs": [],
   "source": [
    "pref_for_log =  preference[preference.value != 'script']"
   ],
   "metadata": {
    "collapsed": false,
    "pycharm": {
     "name": "#%%\n"
    }
   }
  },
  {
   "cell_type": "code",
   "execution_count": 18,
   "outputs": [
    {
     "name": "stderr",
     "output_type": "stream",
     "text": []
    }
   ],
   "source": [
    "expected, observed, stats = pg.chi2_independence(preference, x='value', y='freq')"
   ],
   "metadata": {
    "collapsed": false,
    "pycharm": {
     "name": "#%%\n"
    }
   }
  },
  {
   "cell_type": "code",
   "execution_count": 19,
   "outputs": [
    {
     "name": "stderr",
     "output_type": "stream",
     "text": []
    }
   ],
   "source": [
    "expected, observed, stats = pg.chi2_independence(pref_for_log, x='value', y='task')"
   ],
   "metadata": {
    "collapsed": false,
    "pycharm": {
     "name": "#%%\n"
    }
   }
  },
  {
   "cell_type": "code",
   "execution_count": 20,
   "outputs": [
    {
     "data": {
      "text/plain": "task           0          1          2          3          4\nvalue                                                       \norig   14.271845  14.271845  11.553398  14.951456  14.951456\nsplit   6.728155   6.728155   5.446602   7.048544   7.048544",
      "text/html": "<div>\n<style scoped>\n    .dataframe tbody tr th:only-of-type {\n        vertical-align: middle;\n    }\n\n    .dataframe tbody tr th {\n        vertical-align: top;\n    }\n\n    .dataframe thead th {\n        text-align: right;\n    }\n</style>\n<table border=\"1\" class=\"dataframe\">\n  <thead>\n    <tr style=\"text-align: right;\">\n      <th>task</th>\n      <th>0</th>\n      <th>1</th>\n      <th>2</th>\n      <th>3</th>\n      <th>4</th>\n    </tr>\n    <tr>\n      <th>value</th>\n      <th></th>\n      <th></th>\n      <th></th>\n      <th></th>\n      <th></th>\n    </tr>\n  </thead>\n  <tbody>\n    <tr>\n      <th>orig</th>\n      <td>14.271845</td>\n      <td>14.271845</td>\n      <td>11.553398</td>\n      <td>14.951456</td>\n      <td>14.951456</td>\n    </tr>\n    <tr>\n      <th>split</th>\n      <td>6.728155</td>\n      <td>6.728155</td>\n      <td>5.446602</td>\n      <td>7.048544</td>\n      <td>7.048544</td>\n    </tr>\n  </tbody>\n</table>\n</div>"
     },
     "execution_count": 20,
     "metadata": {},
     "output_type": "execute_result"
    }
   ],
   "source": [
    "expected"
   ],
   "metadata": {
    "collapsed": false,
    "pycharm": {
     "name": "#%%\n"
    }
   }
  },
  {
   "cell_type": "code",
   "execution_count": 21,
   "outputs": [
    {
     "data": {
      "text/plain": "task    0   1  2   3   4\nvalue                   \norig   15  15  9  11  20\nsplit   6   6  8  11   2",
      "text/html": "<div>\n<style scoped>\n    .dataframe tbody tr th:only-of-type {\n        vertical-align: middle;\n    }\n\n    .dataframe tbody tr th {\n        vertical-align: top;\n    }\n\n    .dataframe thead th {\n        text-align: right;\n    }\n</style>\n<table border=\"1\" class=\"dataframe\">\n  <thead>\n    <tr style=\"text-align: right;\">\n      <th>task</th>\n      <th>0</th>\n      <th>1</th>\n      <th>2</th>\n      <th>3</th>\n      <th>4</th>\n    </tr>\n    <tr>\n      <th>value</th>\n      <th></th>\n      <th></th>\n      <th></th>\n      <th></th>\n      <th></th>\n    </tr>\n  </thead>\n  <tbody>\n    <tr>\n      <th>orig</th>\n      <td>15</td>\n      <td>15</td>\n      <td>9</td>\n      <td>11</td>\n      <td>20</td>\n    </tr>\n    <tr>\n      <th>split</th>\n      <td>6</td>\n      <td>6</td>\n      <td>8</td>\n      <td>11</td>\n      <td>2</td>\n    </tr>\n  </tbody>\n</table>\n</div>"
     },
     "execution_count": 21,
     "metadata": {},
     "output_type": "execute_result"
    }
   ],
   "source": [
    "observed"
   ],
   "metadata": {
    "collapsed": false,
    "pycharm": {
     "name": "#%%\n"
    }
   }
  },
  {
   "cell_type": "code",
   "execution_count": 22,
   "outputs": [],
   "source": [
    "task_answer = preference.groupby(['task','value']).variable.count().reset_index()"
   ],
   "metadata": {
    "collapsed": false,
    "pycharm": {
     "name": "#%%\n"
    }
   }
  },
  {
   "cell_type": "code",
   "execution_count": 23,
   "outputs": [],
   "source": [
    "task_size = preference.groupby(['task']).variable.count().reset_index()"
   ],
   "metadata": {
    "collapsed": false,
    "pycharm": {
     "name": "#%%\n"
    }
   }
  },
  {
   "cell_type": "code",
   "execution_count": 24,
   "outputs": [],
   "source": [
    "task_answer = task_answer.merge(task_size, on = 'task', how = 'left')"
   ],
   "metadata": {
    "collapsed": false,
    "pycharm": {
     "name": "#%%\n"
    }
   }
  },
  {
   "cell_type": "code",
   "execution_count": 25,
   "outputs": [],
   "source": [
    "task_answer['percent'] = task_answer.variable_x / task_answer.variable_y"
   ],
   "metadata": {
    "collapsed": false,
    "pycharm": {
     "name": "#%%\n"
    }
   }
  },
  {
   "cell_type": "code",
   "execution_count": 26,
   "outputs": [
    {
     "data": {
      "text/plain": "   task   value  variable_x  variable_y   percent\n0     0    orig          15          22  0.681818\n1     0  script           1          22  0.045455\n2     0   split           6          22  0.272727\n3     1    orig          15          22  0.681818\n4     1  script           1          22  0.045455\n5     1   split           6          22  0.272727\n6     2    orig           9          23  0.391304\n7     2  script           6          23  0.260870\n8     2   split           8          23  0.347826\n9     3    orig          11          22  0.500000\n10    3   split          11          22  0.500000\n11    4    orig          20          23  0.869565\n12    4  script           1          23  0.043478\n13    4   split           2          23  0.086957",
      "text/html": "<div>\n<style scoped>\n    .dataframe tbody tr th:only-of-type {\n        vertical-align: middle;\n    }\n\n    .dataframe tbody tr th {\n        vertical-align: top;\n    }\n\n    .dataframe thead th {\n        text-align: right;\n    }\n</style>\n<table border=\"1\" class=\"dataframe\">\n  <thead>\n    <tr style=\"text-align: right;\">\n      <th></th>\n      <th>task</th>\n      <th>value</th>\n      <th>variable_x</th>\n      <th>variable_y</th>\n      <th>percent</th>\n    </tr>\n  </thead>\n  <tbody>\n    <tr>\n      <th>0</th>\n      <td>0</td>\n      <td>orig</td>\n      <td>15</td>\n      <td>22</td>\n      <td>0.681818</td>\n    </tr>\n    <tr>\n      <th>1</th>\n      <td>0</td>\n      <td>script</td>\n      <td>1</td>\n      <td>22</td>\n      <td>0.045455</td>\n    </tr>\n    <tr>\n      <th>2</th>\n      <td>0</td>\n      <td>split</td>\n      <td>6</td>\n      <td>22</td>\n      <td>0.272727</td>\n    </tr>\n    <tr>\n      <th>3</th>\n      <td>1</td>\n      <td>orig</td>\n      <td>15</td>\n      <td>22</td>\n      <td>0.681818</td>\n    </tr>\n    <tr>\n      <th>4</th>\n      <td>1</td>\n      <td>script</td>\n      <td>1</td>\n      <td>22</td>\n      <td>0.045455</td>\n    </tr>\n    <tr>\n      <th>5</th>\n      <td>1</td>\n      <td>split</td>\n      <td>6</td>\n      <td>22</td>\n      <td>0.272727</td>\n    </tr>\n    <tr>\n      <th>6</th>\n      <td>2</td>\n      <td>orig</td>\n      <td>9</td>\n      <td>23</td>\n      <td>0.391304</td>\n    </tr>\n    <tr>\n      <th>7</th>\n      <td>2</td>\n      <td>script</td>\n      <td>6</td>\n      <td>23</td>\n      <td>0.260870</td>\n    </tr>\n    <tr>\n      <th>8</th>\n      <td>2</td>\n      <td>split</td>\n      <td>8</td>\n      <td>23</td>\n      <td>0.347826</td>\n    </tr>\n    <tr>\n      <th>9</th>\n      <td>3</td>\n      <td>orig</td>\n      <td>11</td>\n      <td>22</td>\n      <td>0.500000</td>\n    </tr>\n    <tr>\n      <th>10</th>\n      <td>3</td>\n      <td>split</td>\n      <td>11</td>\n      <td>22</td>\n      <td>0.500000</td>\n    </tr>\n    <tr>\n      <th>11</th>\n      <td>4</td>\n      <td>orig</td>\n      <td>20</td>\n      <td>23</td>\n      <td>0.869565</td>\n    </tr>\n    <tr>\n      <th>12</th>\n      <td>4</td>\n      <td>script</td>\n      <td>1</td>\n      <td>23</td>\n      <td>0.043478</td>\n    </tr>\n    <tr>\n      <th>13</th>\n      <td>4</td>\n      <td>split</td>\n      <td>2</td>\n      <td>23</td>\n      <td>0.086957</td>\n    </tr>\n  </tbody>\n</table>\n</div>"
     },
     "execution_count": 26,
     "metadata": {},
     "output_type": "execute_result"
    }
   ],
   "source": [
    "task_answer"
   ],
   "metadata": {
    "collapsed": false,
    "pycharm": {
     "name": "#%%\n"
    }
   }
  }
 ],
 "metadata": {
  "kernelspec": {
   "display_name": "Python 3",
   "language": "python",
   "name": "python3"
  },
  "language_info": {
   "codemirror_mode": {
    "name": "ipython",
    "version": 2
   },
   "file_extension": ".py",
   "mimetype": "text/x-python",
   "name": "python",
   "nbconvert_exporter": "python",
   "pygments_lexer": "ipython2",
   "version": "2.7.6"
  }
 },
 "nbformat": 4,
 "nbformat_minor": 0
}