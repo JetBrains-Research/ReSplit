{
 "cells": [
  {
   "cell_type": "code",
   "execution_count": 1,
   "metadata": {
    "collapsed": true
   },
   "outputs": [],
   "source": [
    "import pandas as pd\n",
    "import seaborn as sns\n",
    "from functools import reduce\n",
    "\n",
    "sns.set(rc={'figure.figsize': (15.7, 12.27)})"
   ]
  },
  {
   "cell_type": "code",
   "execution_count": 2,
   "outputs": [],
   "source": [
    "original = pd.read_csv('../data/orig.csv')\n",
    "original['status'] = 'original'\n",
    "complete = pd.read_csv('../data/complete.csv')\n",
    "complete['status'] = 'complete'\n",
    "merged = pd.read_csv('../data/merged.csv')\n",
    "merged['status'] = 'merged'\n",
    "split = pd.read_csv('../data/split.csv')\n",
    "split['status'] = 'split'"
   ],
   "metadata": {
    "collapsed": false,
    "pycharm": {
     "name": "#%%\n"
    }
   }
  },
  {
   "cell_type": "code",
   "execution_count": 3,
   "outputs": [],
   "source": [
    "def get_changes(datasets):\n",
    "    agg_datasets = []\n",
    "    for dataset in datasets:\n",
    "        df = pd.read_csv(f'../data/{dataset}.csv')\n",
    "        agg_df = df.groupby('notebook_id').apply(len).to_frame(f'{dataset}_nb_len')\n",
    "        agg_datasets.append(agg_df.reset_index())\n",
    "\n",
    "    changes = reduce(lambda left, right: pd.merge(left, right, on='notebook_id', how='left'), agg_datasets)\n",
    "    changes['percent'] = abs(changes['orig_nb_len'] - changes['complete_nb_len']) / changes['orig_nb_len']\n",
    "    changes.to_csv(f'../data/changes.csv', index=None)\n",
    "    return changes\n",
    "\n",
    "\n",
    "def calc_nb_len_mean(datasets):\n",
    "    result = {}\n",
    "    for dataset in datasets:\n",
    "        result[dataset.status.values[0]] = [dataset.groupby('notebook_id').apply(len).mean()]\n",
    "    return result\n",
    "\n",
    "\n",
    "def calc_cell_len_mean(datasets):\n",
    "    result = {}\n",
    "    for dataset in datasets:\n",
    "        result[dataset.status.values[0]] = [dataset.loc[dataset.cell_type == 'code', 'source'].str.split(\n",
    "            '\\n').dropna().apply(len).mean()]\n",
    "    return result\n"
   ],
   "metadata": {
    "collapsed": false,
    "pycharm": {
     "name": "#%%\n"
    }
   }
  },
  {
   "cell_type": "markdown",
   "source": [
    "### Change stats"
   ],
   "metadata": {
    "collapsed": false
   }
  },
  {
   "cell_type": "code",
   "execution_count": 82,
   "outputs": [
    {
     "data": {
      "text/plain": "234538"
     },
     "execution_count": 82,
     "metadata": {},
     "output_type": "execute_result"
    }
   ],
   "source": [
    "len(original.notebook_id.unique())"
   ],
   "metadata": {
    "collapsed": false,
    "pycharm": {
     "name": "#%%\n"
    }
   }
  },
  {
   "cell_type": "code",
   "execution_count": 111,
   "outputs": [],
   "source": [
    "cell_amount = calc_nb_len_mean([original, merged, split, complete])"
   ],
   "metadata": {
    "collapsed": false,
    "pycharm": {
     "name": "#%%\n"
    }
   }
  },
  {
   "cell_type": "code",
   "execution_count": 112,
   "outputs": [],
   "source": [
    "cell_size = calc_cell_len_mean([original, merged, split, complete])"
   ],
   "metadata": {
    "collapsed": false,
    "pycharm": {
     "name": "#%%\n"
    }
   }
  },
  {
   "cell_type": "code",
   "execution_count": 123,
   "outputs": [
    {
     "name": "stdout",
     "output_type": "stream",
     "text": [
      "    Dataset  Mean cell length  Mean cell amount\n",
      "0  original          8.764119         36.669836\n",
      "1    merged         11.320019         28.949751\n",
      "2     split          7.907700         39.881345\n",
      "3  complete          9.467182         34.523749\n"
     ]
    }
   ],
   "source": [
    "stats = pd.concat([pd.DataFrame(cell_size), pd.DataFrame(cell_amount)]).T.reset_index()\n",
    "stats.columns = ['Dataset', 'Mean cell length', 'Mean cell amount']\n",
    "print(stats)"
   ],
   "metadata": {
    "collapsed": false,
    "pycharm": {
     "name": "#%%\n"
    }
   }
  },
  {
   "cell_type": "code",
   "execution_count": 36,
   "outputs": [],
   "source": [
    "datasets = ['orig', 'complete']\n",
    "changes = get_changes(datasets)"
   ],
   "metadata": {
    "collapsed": false,
    "pycharm": {
     "name": "#%%\n"
    }
   }
  },
  {
   "cell_type": "code",
   "execution_count": 89,
   "outputs": [],
   "source": [
    "sns.set(rc={'figure.figsize': (6.27, 6.27)})\n",
    "sns.set_style(\"whitegrid\")"
   ],
   "metadata": {
    "collapsed": false,
    "pycharm": {
     "name": "#%%\n"
    }
   }
  },
  {
   "cell_type": "code",
   "execution_count": 81,
   "outputs": [
    {
     "data": {
      "text/plain": "0.8211334623813625"
     },
     "execution_count": 81,
     "metadata": {},
     "output_type": "execute_result"
    }
   ],
   "source": [
    "len(changes[changes.percent != 0]) / len(original.notebook_id.unique())"
   ],
   "metadata": {
    "collapsed": false,
    "pycharm": {
     "name": "#%%\n"
    }
   }
  },
  {
   "cell_type": "code",
   "execution_count": 97,
   "outputs": [
    {
     "data": {
      "text/plain": "<Figure size 451.44x451.44 with 1 Axes>",
      "image/png": "[encoded data removed]"
     },
     "metadata": {},
     "output_type": "display_data"
    }
   ],
   "source": [
    "fig = sns.histplot(data=changes[changes.percent != 0], x=\"percent\", color='red')\n",
    "fig.figure.savefig('../images/percent_change_distribution.pdf', dpi=300)"
   ],
   "metadata": {
    "collapsed": false,
    "pycharm": {
     "name": "#%%\n"
    }
   }
  },
  {
   "cell_type": "markdown",
   "source": [
    "### Closer look onto merging"
   ],
   "metadata": {
    "collapsed": false
   }
  },
  {
   "cell_type": "code",
   "execution_count": 7,
   "outputs": [],
   "source": [
    "merged = merged.dropna(subset=['merged'])\n",
    "init_ratios = merged.loc[:, ['interlink_ratio']].melt().dropna()\n",
    "ratios = merged.loc[merged.merged, ['interlink_ratio', 'resulted_intercell_ratio']].melt().dropna()"
   ],
   "metadata": {
    "collapsed": false,
    "pycharm": {
     "name": "#%%\n"
    }
   }
  },
  {
   "cell_type": "code",
   "execution_count": 8,
   "outputs": [
    {
     "data": {
      "text/plain": "         notebook_id  interlink_ratio  resulted_intercell_ratio  inter_change\n1466645       913246         0.200000                  0.840000     -0.640000\n740240        670167         0.250000                  0.857143     -0.607143\n4133599      1446559         0.333333                  0.918367     -0.585034\n6120038       321702         0.326241                  0.910891     -0.584650\n3991495      1420232         0.333333                  0.916667     -0.583333\n...              ...              ...                       ...           ...\n3127487      1346492         0.882400                  0.211538      0.670862\n3321769      1290818         0.759542                  0.080292      0.679250\n5574494       479484         0.800000                  0.120000      0.680000\n871354        694615         0.841324                  0.125786      0.715538\n305481        534986         0.800000                  0.078431      0.721569\n\n[676640 rows x 4 columns]",
      "text/html": "<div>\n<style scoped>\n    .dataframe tbody tr th:only-of-type {\n        vertical-align: middle;\n    }\n\n    .dataframe tbody tr th {\n        vertical-align: top;\n    }\n\n    .dataframe thead th {\n        text-align: right;\n    }\n</style>\n<table border=\"1\" class=\"dataframe\">\n  <thead>\n    <tr style=\"text-align: right;\">\n      <th></th>\n      <th>notebook_id</th>\n      <th>interlink_ratio</th>\n      <th>resulted_intercell_ratio</th>\n      <th>inter_change</th>\n    </tr>\n  </thead>\n  <tbody>\n    <tr>\n      <th>1466645</th>\n      <td>913246</td>\n      <td>0.200000</td>\n      <td>0.840000</td>\n      <td>-0.640000</td>\n    </tr>\n    <tr>\n      <th>740240</th>\n      <td>670167</td>\n      <td>0.250000</td>\n      <td>0.857143</td>\n      <td>-0.607143</td>\n    </tr>\n    <tr>\n      <th>4133599</th>\n      <td>1446559</td>\n      <td>0.333333</td>\n      <td>0.918367</td>\n      <td>-0.585034</td>\n    </tr>\n    <tr>\n      <th>6120038</th>\n      <td>321702</td>\n      <td>0.326241</td>\n      <td>0.910891</td>\n      <td>-0.584650</td>\n    </tr>\n    <tr>\n      <th>3991495</th>\n      <td>1420232</td>\n      <td>0.333333</td>\n      <td>0.916667</td>\n      <td>-0.583333</td>\n    </tr>\n    <tr>\n      <th>...</th>\n      <td>...</td>\n      <td>...</td>\n      <td>...</td>\n      <td>...</td>\n    </tr>\n    <tr>\n      <th>3127487</th>\n      <td>1346492</td>\n      <td>0.882400</td>\n      <td>0.211538</td>\n      <td>0.670862</td>\n    </tr>\n    <tr>\n      <th>3321769</th>\n      <td>1290818</td>\n      <td>0.759542</td>\n      <td>0.080292</td>\n      <td>0.679250</td>\n    </tr>\n    <tr>\n      <th>5574494</th>\n      <td>479484</td>\n      <td>0.800000</td>\n      <td>0.120000</td>\n      <td>0.680000</td>\n    </tr>\n    <tr>\n      <th>871354</th>\n      <td>694615</td>\n      <td>0.841324</td>\n      <td>0.125786</td>\n      <td>0.715538</td>\n    </tr>\n    <tr>\n      <th>305481</th>\n      <td>534986</td>\n      <td>0.800000</td>\n      <td>0.078431</td>\n      <td>0.721569</td>\n    </tr>\n  </tbody>\n</table>\n<p>676640 rows × 4 columns</p>\n</div>"
     },
     "execution_count": 8,
     "metadata": {},
     "output_type": "execute_result"
    }
   ],
   "source": [
    "ratio_change = merged.loc[merged.merged,\n",
    "                          ['notebook_id', 'interlink_ratio', 'resulted_intercell_ratio']]\n",
    "ratio_change['inter_change'] = ratio_change['interlink_ratio'] - ratio_change['resulted_intercell_ratio']\n",
    "ratio_change.sort_values(['inter_change'])"
   ],
   "metadata": {
    "collapsed": false,
    "pycharm": {
     "name": "#%%\n"
    }
   }
  },
  {
   "cell_type": "code",
   "execution_count": 47,
   "outputs": [
    {
     "data": {
      "text/plain": "282384"
     },
     "execution_count": 47,
     "metadata": {},
     "output_type": "execute_result"
    }
   ],
   "source": [
    "(ratio_change.inter_change == 0).sum()"
   ],
   "metadata": {
    "collapsed": false,
    "pycharm": {
     "name": "#%%\n"
    }
   }
  },
  {
   "cell_type": "code",
   "execution_count": 11,
   "outputs": [],
   "source": [
    "init_ratios.to_csv('inter_link_ratio_distribution')"
   ],
   "metadata": {
    "collapsed": false,
    "pycharm": {
     "name": "#%%\n"
    }
   }
  },
  {
   "cell_type": "code",
   "execution_count": 12,
   "outputs": [
    {
     "data": {
      "text/plain": "                variable     value\n1        interlink_ratio  0.000000\n2        interlink_ratio  0.995643\n3        interlink_ratio  0.980984\n5        interlink_ratio  0.996067\n6        interlink_ratio  0.840845\n...                  ...       ...\n5292847  interlink_ratio  1.000000\n5292849  interlink_ratio  0.782609\n5292850  interlink_ratio  1.000000\n5292851  interlink_ratio  0.852564\n5292853  interlink_ratio  1.000000\n\n[3049243 rows x 2 columns]",
      "text/html": "<div>\n<style scoped>\n    .dataframe tbody tr th:only-of-type {\n        vertical-align: middle;\n    }\n\n    .dataframe tbody tr th {\n        vertical-align: top;\n    }\n\n    .dataframe thead th {\n        text-align: right;\n    }\n</style>\n<table border=\"1\" class=\"dataframe\">\n  <thead>\n    <tr style=\"text-align: right;\">\n      <th></th>\n      <th>variable</th>\n      <th>value</th>\n    </tr>\n  </thead>\n  <tbody>\n    <tr>\n      <th>1</th>\n      <td>interlink_ratio</td>\n      <td>0.000000</td>\n    </tr>\n    <tr>\n      <th>2</th>\n      <td>interlink_ratio</td>\n      <td>0.995643</td>\n    </tr>\n    <tr>\n      <th>3</th>\n      <td>interlink_ratio</td>\n      <td>0.980984</td>\n    </tr>\n    <tr>\n      <th>5</th>\n      <td>interlink_ratio</td>\n      <td>0.996067</td>\n    </tr>\n    <tr>\n      <th>6</th>\n      <td>interlink_ratio</td>\n      <td>0.840845</td>\n    </tr>\n    <tr>\n      <th>...</th>\n      <td>...</td>\n      <td>...</td>\n    </tr>\n    <tr>\n      <th>5292847</th>\n      <td>interlink_ratio</td>\n      <td>1.000000</td>\n    </tr>\n    <tr>\n      <th>5292849</th>\n      <td>interlink_ratio</td>\n      <td>0.782609</td>\n    </tr>\n    <tr>\n      <th>5292850</th>\n      <td>interlink_ratio</td>\n      <td>1.000000</td>\n    </tr>\n    <tr>\n      <th>5292851</th>\n      <td>interlink_ratio</td>\n      <td>0.852564</td>\n    </tr>\n    <tr>\n      <th>5292853</th>\n      <td>interlink_ratio</td>\n      <td>1.000000</td>\n    </tr>\n  </tbody>\n</table>\n<p>3049243 rows × 2 columns</p>\n</div>"
     },
     "execution_count": 12,
     "metadata": {},
     "output_type": "execute_result"
    }
   ],
   "source": [
    "init_ratios"
   ],
   "metadata": {
    "collapsed": false,
    "pycharm": {
     "name": "#%%\n"
    }
   }
  },
  {
   "cell_type": "code",
   "execution_count": 9,
   "outputs": [
    {
     "data": {
      "text/plain": "<Figure size 1130.4x883.44 with 1 Axes>",
      "image/png": "[encoded data removed]"
     },
     "metadata": {},
     "output_type": "display_data"
    }
   ],
   "source": [
    "\n",
    "fig = sns.histplot(data=init_ratios, x=\"value\", color='red')\n",
    "fig.figure.savefig('../images/inter_link_ratio_distribution.pdf', dpi=300)"
   ],
   "metadata": {
    "collapsed": false,
    "pycharm": {
     "name": "#%%\n"
    }
   }
  },
  {
   "cell_type": "code",
   "execution_count": 96,
   "outputs": [
    {
     "data": {
      "text/plain": "<Figure size 451.44x451.44 with 1 Axes>",
      "image/png": "[encoded data removed]"
     },
     "metadata": {},
     "output_type": "display_data"
    }
   ],
   "source": [
    "fig = sns.histplot(data=ratio_change[ratio_change.inter_change != 0], x=\"inter_change\", color='red');\n",
    "fig.figure.savefig('../images/inter_link_ratio_change_distribution.pdf', dpi=300)"
   ],
   "metadata": {
    "collapsed": false,
    "pycharm": {
     "name": "#%%\n"
    }
   }
  },
  {
   "cell_type": "markdown",
   "source": [],
   "metadata": {
    "collapsed": false
   }
  }
 ],
 "metadata": {
  "kernelspec": {
   "display_name": "Python 3",
   "language": "python",
   "name": "python3"
  },
  "language_info": {
   "codemirror_mode": {
    "name": "ipython",
    "version": 2
   },
   "file_extension": ".py",
   "mimetype": "text/x-python",
   "name": "python",
   "nbconvert_exporter": "python",
   "pygments_lexer": "ipython2",
   "version": "2.7.6"
  }
 },
 "nbformat": 4,
 "nbformat_minor": 0
}