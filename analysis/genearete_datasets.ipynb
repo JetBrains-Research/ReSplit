{
 "cells": [
  {
   "cell_type": "code",
   "execution_count": null,
   "outputs": [],
   "source": [
    "from generator_functions import merge_chunked_data\n",
    "from resplitter import NotebookProcessor"
   ],
   "metadata": {
    "collapsed": false,
    "pycharm": {
     "name": "#%%\n"
    }
   }
  },
  {
   "cell_type": "markdown",
   "source": [
    "# Produce split datasets"
   ],
   "metadata": {
    "collapsed": false
   }
  },
  {
   "cell_type": "code",
   "execution_count": null,
   "outputs": [],
   "source": [
    "dataset_config = {\n",
    "    'complete': {'merge': True, 'split': True},\n",
    "    'merged': {'merge': True, 'split': False},\n",
    "    'split': {'merge': False, 'split': True},\n",
    "    'orig': {'merge': False, 'split': False}\n",
    "}"
   ],
   "metadata": {
    "collapsed": false,
    "pycharm": {
     "name": "#%%\n"
    }
   }
  },
  {
   "cell_type": "code",
   "execution_count": null,
   "outputs": [],
   "source": [
    "for dataset in dataset_config.keys():\n",
    "    nbp = NotebookProcessor(dataset_config[dataset])\n",
    "    big_df = nbp.process_notebook_dataset(path='../data/sklearn_full_cells.csv',\n",
    "                                          save_path=f'../dump/{dataset}',\n",
    "                                          nb_num=None, chunk_size=10000)\n",
    "\n",
    "    merge_chunked_data(dataset)"
   ],
   "metadata": {
    "collapsed": false,
    "pycharm": {
     "name": "#%%\n"
    }
   }
  }
 ],
 "metadata": {
  "kernelspec": {
   "display_name": "Python 3",
   "language": "python",
   "name": "python3"
  },
  "language_info": {
   "codemirror_mode": {
    "name": "ipython",
    "version": 2
   },
   "file_extension": ".py",
   "mimetype": "text/x-python",
   "name": "python",
   "nbconvert_exporter": "python",
   "pygments_lexer": "ipython2",
   "version": "2.7.6"
  }
 },
 "nbformat": 4,
 "nbformat_minor": 0
}