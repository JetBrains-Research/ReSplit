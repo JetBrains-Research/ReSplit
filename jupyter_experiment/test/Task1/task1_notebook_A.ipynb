{
 "cells": [
  {
   "cell_type": "code",
   "execution_count": null,
   "metadata": {
    "collapsed": true,
    "editable": false,
    "jupyter": {
     "outputs_hidden": false
    }
   },
   "outputs": [],
   "source": [
    "import pandas\n",
    "import matplotlib.pyplot as plt\n",
    "\n",
    "pga = pandas.read_csv(\"pga.csv\")\n",
    "\n",
    "pga.distance = (pga.distance - pga.distance.mean()) / pga.distance.std()\n",
    "pga.accuracy = (pga.accuracy - pga.accuracy.mean()) / pga.accuracy.std()\n",
    "print(pga.head())\n",
    "\n",
    "plt.scatter(pga.distance, pga.accuracy)\n",
    "plt.xlabel('normalized distance')\n",
    "plt.ylabel('normalized accuracy')\n",
    "plt.show()\n"
   ]
  },
  {
   "cell_type": "code",
   "execution_count": null,
   "metadata": {
    "collapsed": true,
    "editable": false,
    "jupyter": {
     "outputs_hidden": false
    }
   },
   "outputs": [],
   "source": [
    "\n",
    "\n",
    "from sklearn.linear_model import LinearRegression\n",
    "import numpy as np\n",
    "\n",
    "print(\"Shape of the series:\", pga.distance.shape)\n",
    "print(\"Shape with newaxis:\", pga.distance[:, np.newaxis].shape)\n",
    "\n",
    "lm = LinearRegression()\n",
    "lm.fit(pga.distance[:, np.newaxis], pga.accuracy)\n",
    "theta1 = lm.coef_[0]\n",
    "print(theta1)\n"
   ]
  },
  {
   "cell_type": "code",
   "execution_count": null,
   "metadata": {
    "collapsed": true,
    "editable": false,
    "jupyter": {
     "outputs_hidden": false
    }
   },
   "outputs": [],
   "source": [
    "\n",
    "def cost(theta0, theta1, x, y):\n",
    "    J = 0\n",
    "\n",
    "    m = len(x)\n",
    "\n",
    "    for i in range(m):\n",
    "        h = theta1 * x[i] + theta0\n",
    "\n",
    "        J += (h - y[i]) ** 2\n",
    "\n",
    "    J /= (2 * m)\n",
    "    return J\n",
    "\n",
    "\n",
    "print(cost(0, 1, pga.distance, pga.accuracy))\n",
    "\n",
    "theta0 = 100\n",
    "theta1s = np.linspace(-3, 2, 100)\n",
    "costs = []\n",
    "for theta1 in theta1s:\n",
    "    costs.append(cost(theta0, theta1, pga.distance, pga.accuracy))\n",
    "\n",
    "plt.plot(theta1s, costs)\n",
    "plt.show()\n"
   ]
  },
  {
   "cell_type": "code",
   "execution_count": null,
   "metadata": {
    "collapsed": true,
    "editable": false,
    "jupyter": {
     "outputs_hidden": false
    }
   },
   "outputs": [],
   "source": [
    "import numpy as np\n",
    "from mpl_toolkits.mplot3d import Axes3D\n",
    "\n",
    "x = np.linspace(-10, 10, 100)\n",
    "y = np.linspace(-10, 10, 100)\n",
    "\n",
    "X, Y = np.meshgrid(x, y)\n",
    "\n",
    "Z = X ** 2 + Y ** 2\n",
    "\n",
    "fig = plt.figure()\n",
    "\n",
    "ax = fig.gca(projection='3d')\n",
    "\n",
    "ax.plot_surface(X=X, Y=Y, Z=Z)\n",
    "\n",
    "plt.show()\n",
    "\n",
    "theta0s = np.linspace(-2, 2, 100)\n",
    "theta1s = np.linspace(-2, 2, 100)\n",
    "COST = np.empty(shape=(100, 100))\n",
    "\n",
    "T0S, T1S = np.meshgrid(theta0s, theta1s)\n",
    "\n",
    "for i in range(100):\n",
    "    for j in range(100):\n",
    "        COST[i, j] = cost(T0S[0, i], T1S[j, 0], pga.distance, pga.accuracy)\n",
    "\n",
    "fig2 = plt.figure()\n",
    "ax = fig2.gca(projection='3d')\n",
    "ax.plot_surface(X=T0S, Y=T1S, Z=COST)\n",
    "plt.show()\n"
   ]
  },
  {
   "cell_type": "code",
   "execution_count": null,
   "metadata": {
    "collapsed": true,
    "editable": false,
    "jupyter": {
     "outputs_hidden": false
    }
   },
   "outputs": [],
   "source": [
    "def partial_cost_theta1(theta0, theta1, x, y):\n",
    "    h = theta0 + theta1 * x\n",
    "\n",
    "    diff = (h - y) * x\n",
    "\n",
    "    partial = diff.sum() / (x.shape[0])\n",
    "    return partial\n",
    "\n",
    "\n",
    "partial1 = partial_cost_theta1(0, 5, pga.distance, pga.accuracy)\n",
    "print(\"partial1 =\", partial1)\n",
    "\n",
    "\n",
    "def partial_cost_theta0(theta0, theta1, x, y):\n",
    "    h = theta0 + theta1 * x\n",
    "\n",
    "    diff = (h - y)\n",
    "\n",
    "    partial = diff.sum() / (x.shape[0])\n",
    "    return partial\n",
    "\n",
    "\n",
    "partial0 = partial_cost_theta0(1, 1, pga.distance, pga.accuracy)\n"
   ]
  },
  {
   "cell_type": "code",
   "execution_count": null,
   "metadata": {
    "collapsed": true,
    "editable": false,
    "jupyter": {
     "outputs_hidden": false
    }
   },
   "outputs": [],
   "source": [
    "\n",
    "\n",
    "\n",
    "\n",
    "\n",
    "def gradient_descent(x, y, alpha=0.1, theta0=0, theta1=0):\n",
    "    max_epochs = 1000\n",
    "    counter = 0\n",
    "    c = cost(theta1, theta0, pga.distance, pga.accuracy)\n",
    "    costs = [c]\n",
    "\n",
    "    convergence_thres = 0.000001\n",
    "    cprev = c + 10\n",
    "    theta0s = [theta0]\n",
    "    theta1s = [theta1]\n",
    "\n",
    "    while (np.abs(cprev - c) > convergence_thres) and (counter < max_epochs):\n",
    "        cprev = c\n",
    "\n",
    "        update0 = alpha * partial_cost_theta0(theta0, theta1, x, y)\n",
    "        update1 = alpha * partial_cost_theta1(theta0, theta1, x, y)\n",
    "\n",
    "        theta0 -= update0\n",
    "        theta1 -= update1\n",
    "\n",
    "        theta0s.append(theta0)\n",
    "        theta1s.append(theta1)\n",
    "\n",
    "        c = cost(theta0, theta1, pga.distance, pga.accuracy)\n",
    "\n",
    "        costs.append(c)\n",
    "        counter += 1\n",
    "\n",
    "    return {'theta0': theta0, 'theta1': theta1, \"costs\": costs}\n",
    "\n",
    "\n",
    "print(\"Theta1 =\", gradient_descent(pga.distance, pga.accuracy)['theta1'])\n",
    "descend = gradient_descent(pga.distance, pga.accuracy, alpha=.01)\n",
    "plt.scatter(range(len(descend[\"costs\"])), descend[\"costs\"])\n",
    "plt.show()\n"
   ]
  },
  {
   "cell_type": "code",
   "execution_count": null,
   "metadata": {
    "collapsed": true,
    "editable": false,
    "jupyter": {
     "outputs_hidden": false
    }
   },
   "outputs": [],
   "source": [
    "\n"
   ]
  }
 ],
 "metadata": {
  "kernelspec": {
   "display_name": "Python 3",
   "language": "python",
   "name": "python3"
  },
  "language_info": {
   "codemirror_mode": {
    "name": "ipython",
    "version": 2
   },
   "file_extension": ".py",
   "mimetype": "text/x-python",
   "name": "python",
   "nbconvert_exporter": "python",
   "pygments_lexer": "ipython2",
   "version": "2.7.6"
  }
 },
 "nbformat": 4,
 "nbformat_minor": 0
}