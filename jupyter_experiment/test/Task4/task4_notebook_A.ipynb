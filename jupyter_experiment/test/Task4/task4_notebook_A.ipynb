{
 "cells": [
  {
   "cell_type": "code",
   "execution_count": null,
   "metadata": {
    "collapsed": true,
    "editable": false,
    "jupyter": {
     "outputs_hidden": false
    }
   },
   "outputs": [],
   "source": [
    "\n",
    "\n"
   ]
  },
  {
   "cell_type": "code",
   "execution_count": null,
   "metadata": {
    "collapsed": true,
    "editable": false,
    "jupyter": {
     "outputs_hidden": false
    }
   },
   "outputs": [],
   "source": [
    "import numpy as np\n",
    "import pandas as pd\n",
    "import matplotlib.pyplot as plt\n",
    "\n",
    "get_ipython().run_line_magic('matplotlib', 'inline')\n",
    "\n",
    "from xgboost import XGBClassifier\n",
    "from sklearn.model_selection import train_test_split\n",
    "from sklearn.metrics import accuracy_score, f1_score\n",
    "\n",
    "import scipy.stats as st\n",
    "from sklearn.grid_search import RandomizedSearchCV\n",
    "\n",
    "df = pd.read_csv(\"WA_Fn-UseC_-HR-Employee-Attrition.csv\")\n"
   ]
  },
  {
   "cell_type": "code",
   "execution_count": null,
   "metadata": {
    "collapsed": true,
    "editable": false,
    "jupyter": {
     "outputs_hidden": false
    }
   },
   "outputs": [],
   "source": [
    "drop_list = ['EmployeeCount', 'StandardHours']\n",
    "df.drop(drop_list, axis=1, inplace=True)\n"
   ]
  },
  {
   "cell_type": "code",
   "execution_count": null,
   "metadata": {
    "collapsed": true,
    "editable": false,
    "jupyter": {
     "outputs_hidden": false
    }
   },
   "outputs": [],
   "source": [
    "final = [pd.get_dummies(df['Attrition'], prefix='Attrition', drop_first=True)]\n",
    "df.drop('Attrition', axis=1, inplace=True)\n",
    "for col in df.columns:\n",
    "    if df[col].dtype == 'object':\n",
    "        final.append(pd.get_dummies(df[col], prefix=col))\n",
    "    else:\n",
    "        final.append(df[col])\n",
    "target = pd.concat(final, axis=1)\n"
   ]
  },
  {
   "cell_type": "code",
   "execution_count": null,
   "metadata": {
    "collapsed": true,
    "editable": false,
    "jupyter": {
     "outputs_hidden": false
    }
   },
   "outputs": [],
   "source": [
    "one_to_left = st.beta(10, 1)\n",
    "from_zero_positive = st.expon(0, 50)\n",
    "\n",
    "params = {\n",
    "    \"n_estimators\": st.randint(10, 500),\n",
    "    \"max_depth\": st.randint(3, 20),\n",
    "    \"learning_rate\": st.uniform(0.01, 0.3),\n",
    "    \"colsample_bytree\": one_to_left,\n",
    "    \"subsample\": one_to_left,\n",
    "    \"gamma\": st.uniform(0, 10),\n",
    "    'reg_alpha': from_zero_positive,\n",
    "    'reg_lambda': from_zero_positive,\n",
    "    \"min_child_weight\": from_zero_positive,\n",
    "    \"max_delta_step\": st.randint(1, 10),\n",
    "}\n"
   ]
  },
  {
   "cell_type": "code",
   "execution_count": null,
   "metadata": {
    "collapsed": true,
    "editable": false,
    "jupyter": {
     "outputs_hidden": false
    }
   },
   "outputs": [],
   "source": [
    "train, test = train_test_split(target)\n",
    "y_train = train['Attrition_Yes']\n",
    "X_train = train.drop('Attrition_Yes', axis=1)\n",
    "\n",
    "y_test = test['Attrition_Yes']\n",
    "X_test = test.drop('Attrition_Yes', axis=1)\n",
    "xgb_model = XGBClassifier(n_jobs=-1)\n",
    "n_iter_search = 100\n",
    "clf = RandomizedSearchCV(xgb_model, params, n_iter=n_iter_search, verbose=0)\n",
    "clf.fit(X_train, y_train)\n",
    "y_pred = clf.predict(X_test)\n",
    "print(\"Accuracy: %.2f%%\" % (accuracy_score(y_test, y_pred) * 100.0))\n",
    "from xgboost import plot_importance\n",
    "\n",
    "get_ipython().run_line_magic('matplotlib', 'inline')\n",
    "plot_importance(clf.best_estimator_, max_num_features=30)\n"
   ]
  },
  {
   "cell_type": "code",
   "execution_count": null,
   "metadata": {
    "collapsed": true,
    "editable": false,
    "jupyter": {
     "outputs_hidden": false
    }
   },
   "outputs": [],
   "source": [
    "\n"
   ]
  }
 ],
 "metadata": {
  "kernelspec": {
   "display_name": "Python 3",
   "language": "python",
   "name": "python3"
  },
  "language_info": {
   "codemirror_mode": {
    "name": "ipython",
    "version": 2
   },
   "file_extension": ".py",
   "mimetype": "text/x-python",
   "name": "python",
   "nbconvert_exporter": "python",
   "pygments_lexer": "ipython2",
   "version": "2.7.6"
  }
 },
 "nbformat": 4,
 "nbformat_minor": 0
}